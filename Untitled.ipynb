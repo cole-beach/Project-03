{
 "cells": [
  {
   "cell_type": "markdown",
   "id": "0f46a78f",
   "metadata": {},
   "source": [
    "# Part 3 - Producing a MySQL Database"
   ]
  },
  {
   "cell_type": "markdown",
   "id": "52ce24fc",
   "metadata": {},
   "source": [
    "## Business Problem\n",
    "\n",
    "Create a database to analyze what makes a movie successful, and will provide recommendations to the stakeholder on how to make a successful movie. "
   ]
  },
  {
   "cell_type": "markdown",
   "id": "a336c9f1",
   "metadata": {},
   "source": [
    "### Specifications - Database\n",
    "\n",
    "* Take data that has been cleaned and create a MySQL database. \n",
    "\n",
    "* Normalize the tables before adding them to the new database. \n",
    "    \n",
    "    * All data from the TMDB API should be in 1 table together (even though it will not be perfectly normalized).\n",
    "    \n",
    "    *Keep only imdb_id, revenue, budget, and certification columns."
   ]
  },
  {
   "cell_type": "markdown",
   "id": "5f5c9101",
   "metadata": {},
   "source": [
    "## Transformation Steps:\n",
    "\n",
    "* Normalize Genre:\n",
    "\n",
    "    * Convert the single string of genres from title_basics into 2 new tables.         \n",
    "        1. title_genres: with columns:\n",
    "            * tconst\n",
    "            * genre_id\n",
    "        \n",
    "        2. genres:\n",
    "            * genre_id\n",
    "            * genre_name\n",
    "\n",
    "\n",
    "* Discard unnecessary information:\n",
    "\n",
    "    * For the title basics table, drop the following columns:\n",
    "        * \"original_title\" (we will use the primary title column instead)\n",
    "        * \"isAdult\" (\"Adult\" will show up in the genres so this is redundant information).\n",
    "        * \"titleType\" (every row will be a movie).\n",
    "        * \"genres\" and other variants of genre (genre is now represented in the 2 new tables described above.\n",
    "     \n",
    "    * Do not include the title_akas table in your SQL database.\n",
    "        * You have already filtered out the desired movies using this table and the remaining data is mostly nulls and not of-interest to the stakeholder."
   ]
  },
  {
   "cell_type": "markdown",
   "id": "f8b3d83a",
   "metadata": {},
   "source": [
    "## MySQL Database Requirements"
   ]
  },
  {
   "cell_type": "markdown",
   "id": "4759e353",
   "metadata": {},
   "source": [
    "* Use sqlalchemy with pandas to execute your SQL queries inside your notebook.\n",
    "\n",
    "\n",
    "* Create a new database on your MySQL server and call it \"movies\".\n",
    "\n",
    "\n",
    "\n",
    "* Make sure to have the following tables in your \"movies\" database:\n",
    "\n",
    "    * title_basics\n",
    "    * title_ratings\n",
    "    * title_genres\n",
    "    * genres\n",
    "    * tmdb_data\n",
    "\n",
    "\n",
    "* Make sure to set a Primary Key for each table that isn't a joiner table (e.g. title_genres is a joiner table).\n",
    "\n",
    "\n",
    "* After creating each table, show the first 5 rows of that table using a SQL query.\n",
    "\n",
    "\n",
    "* Make sure to run the \"SHOW TABLES\" SQL query at the end of your notebook to show that all required tables have been created."
   ]
  },
  {
   "cell_type": "markdown",
   "id": "4e2e41a9",
   "metadata": {},
   "source": [
    "### Deliverables\n",
    "\n",
    "Submit a link to your github respository containing the Jupyter Notebook file.\n",
    "\n"
   ]
  },
  {
   "cell_type": "markdown",
   "id": "0cd4ebfa",
   "metadata": {},
   "source": [
    "# Getting Started Tips"
   ]
  },
  {
   "cell_type": "markdown",
   "id": "091d5b2b",
   "metadata": {},
   "source": [
    "## Normalizing Genres - Overview"
   ]
  },
  {
   "cell_type": "markdown",
   "id": "de3bbef0",
   "metadata": {},
   "source": [
    "* In order to normalize genres, we will need to:\n",
    "\n",
    "    * Convert the single string of genres from title basics into 2 new tables.\n",
    "        \n",
    "        1. title_genres: with the columns:\n",
    "\n",
    "            * tconst\n",
    "            * genre_id\n",
    "        \n",
    "        2. genres:\n",
    "            * genre_id\n",
    "            * genre_name\n",
    "\n",
    "\n",
    "* Creating these tables will be a multi-step process.\n",
    "\n",
    "    \n",
    "    \n",
    "        1. Getting a list of all individual genres.\n",
    "    \n",
    "    \n",
    "        2. Create a new title_genres table with with the movie ids duplicated, once for each genre that a movie belongs to.\n",
    "    \n",
    "    \n",
    "        3. Create a mapper dictionary with numeric ids for each genre.\n",
    "    \n",
    "    \n",
    "        4. Use the mapper dictionary to replace the string genres in title_genres with numeric genre_ids.\n",
    "    \n",
    "    \n",
    "        5. Convert the mapper dictionary into a final genres table with the numeric genre_id and the string genre."
   ]
  },
  {
   "cell_type": "markdown",
   "id": "e1bf3ef4",
   "metadata": {},
   "source": [
    "### 1. Getting List of Unique Genres:"
   ]
  },
  {
   "cell_type": "markdown",
   "id": "c6487c56",
   "metadata": {},
   "source": [
    "* The genres column should be separated into separate genres.\n",
    "\n",
    "    * For example: \"Comedy,Fantasy,Romance\" is actually 3 genres that the movie belongs to, not one combined-genre.\n",
    "\n",
    "\n",
    "* First, you will need to get a list of all of the unique genres that appear in the column. Right now, the genre column contains a string with the genres separated by a comma.\n",
    "\n",
    "    1. We are going to convert these strings into lists of strings into a new 'genres_split' column."
   ]
  },
  {
   "cell_type": "code",
   "execution_count": 7,
   "id": "c4194cae",
   "metadata": {},
   "outputs": [],
   "source": [
    "import pandas as pd\n",
    "import matplotlib.pyplot as plt\n",
    "import seaborn as sns\n",
    "import numpy as np\n",
    "import os\n",
    "\n",
    "pd.set_option('display.max_columns',100)"
   ]
  },
  {
   "cell_type": "code",
   "execution_count": 8,
   "id": "9e9864d1",
   "metadata": {},
   "outputs": [
    {
     "data": {
      "text/plain": [
       "['final_tmdb_data_2000.csv.gz',\n",
       " 'final_tmdb_data_2001.csv.gz',\n",
       " 'title_akas_cleaned.csv.gz',\n",
       " 'title_basics_cleaned.csv.gz',\n",
       " 'title_ratings_cleaned.csv.gz',\n",
       " 'tmdb_api_results_2000.json',\n",
       " 'tmdb_api_results_2001.json']"
      ]
     },
     "execution_count": 8,
     "metadata": {},
     "output_type": "execute_result"
    }
   ],
   "source": [
    "FOLDER = \"Data/\"\n",
    "sorted(os.listdir(FOLDER))"
   ]
  },
  {
   "cell_type": "code",
   "execution_count": 16,
   "id": "b4e796fc",
   "metadata": {},
   "outputs": [
    {
     "data": {
      "text/html": [
       "<div>\n",
       "<style scoped>\n",
       "    .dataframe tbody tr th:only-of-type {\n",
       "        vertical-align: middle;\n",
       "    }\n",
       "\n",
       "    .dataframe tbody tr th {\n",
       "        vertical-align: top;\n",
       "    }\n",
       "\n",
       "    .dataframe thead th {\n",
       "        text-align: right;\n",
       "    }\n",
       "</style>\n",
       "<table border=\"1\" class=\"dataframe\">\n",
       "  <thead>\n",
       "    <tr style=\"text-align: right;\">\n",
       "      <th></th>\n",
       "      <th>imdb_id\\r</th>\n",
       "    </tr>\n",
       "  </thead>\n",
       "  <tbody>\n",
       "    <tr>\n",
       "      <th>0</th>\n",
       "      <td>0</td>\n",
       "    </tr>\n",
       "    <tr>\n",
       "      <th>0</th>\n",
       "      <td>0</td>\n",
       "    </tr>\n",
       "  </tbody>\n",
       "</table>\n",
       "</div>"
      ],
      "text/plain": [
       "   imdb_id\\r\n",
       "0          0\n",
       "0          0"
      ]
     },
     "execution_count": 16,
     "metadata": {},
     "output_type": "execute_result"
    }
   ],
   "source": [
    "# Concatenate the DataFrames\n",
    "import glob\n",
    "q  = f\"{FOLDER}final*.csv.gz\"\n",
    "files = sorted(glob.glob(q))\n",
    "df = pd.concat([pd.read_csv(f, lineterminator='\\n') for f in files] )\n",
    "df"
   ]
  },
  {
   "cell_type": "code",
   "execution_count": null,
   "id": "61f871df",
   "metadata": {},
   "outputs": [],
   "source": []
  }
 ],
 "metadata": {
  "kernelspec": {
   "display_name": "Python (dojo-env)",
   "language": "python",
   "name": "dojo-env"
  },
  "language_info": {
   "codemirror_mode": {
    "name": "ipython",
    "version": 3
   },
   "file_extension": ".py",
   "mimetype": "text/x-python",
   "name": "python",
   "nbconvert_exporter": "python",
   "pygments_lexer": "ipython3",
   "version": "3.8.13"
  },
  "toc": {
   "base_numbering": 1,
   "nav_menu": {},
   "number_sections": false,
   "sideBar": true,
   "skip_h1_title": false,
   "title_cell": "Table of Contents",
   "title_sidebar": "Contents",
   "toc_cell": false,
   "toc_position": {},
   "toc_section_display": true,
   "toc_window_display": false
  }
 },
 "nbformat": 4,
 "nbformat_minor": 5
}
