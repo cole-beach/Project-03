{
 "cells": [
  {
   "cell_type": "markdown",
   "id": "90fc3c12",
   "metadata": {},
   "source": [
    "# Hypothesis Testing"
   ]
  },
  {
   "cell_type": "markdown",
   "id": "37c3e2c3",
   "metadata": {},
   "source": [
    "## Task\n"
   ]
  },
  {
   "cell_type": "markdown",
   "id": "785fb912",
   "metadata": {},
   "source": [
    "Use your MySQL Database that was created from part 3 to answer meaningful questions for your stakeholder. \n",
    "    \n",
    "    \n",
    "* They want you to use your hypothesis testing and statistics knowledge to answer 3 questions about what makes a movie successful. "
   ]
  },
  {
   "cell_type": "markdown",
   "id": "3a88eb52",
   "metadata": {},
   "source": [
    "## Questions to Answer:"
   ]
  },
  {
   "cell_type": "markdown",
   "id": "12d3a568",
   "metadata": {},
   "source": [
    "### 1. Does the MPAA rating of a movie (G/PG/PG-13/R) affect how much revenue the movie generates? "
   ]
  },
  {
   "cell_type": "markdown",
   "id": "669ce6f7",
   "metadata": {},
   "source": [
    "* __Perform a statistical test to get a mathematically-supported answer.__\n",
    "    * Report if any significant differences are found between the ratings.\n",
    "        * If yes, what was the p-value of your analysis? And which rating earns the most revenue? \n",
    "\n",
    "\n",
    "* Prepare a visualization that supports your finding.\n",
    "\n",
    "\n",
    "* __Include two additional hypotheses to test. These should be tests your stakeholders would be interested in.__\n",
    "\n",
    "\n",
    "* *Examples*:\n",
    "\n",
    "    1. Movies that are over 2.5 hours long; do they earn more revenue that movies that are 1.5 hours long?\n",
    "    2. Do movies released in 2020 earn less revenue than movies released in 2018?\n",
    "        * How to the years compare for the ratings? \n",
    "* Do some movie genres earn more revenue than others? \n",
    "* Are some genres higher rated than others?  "
   ]
  },
  {
   "cell_type": "markdown",
   "id": "c5e8981e",
   "metadata": {},
   "source": [
    "__Your Data__\n",
    "\n",
    "* A critical first step for this assignment will be to retrieve additional movie data to add to your SQL database.\n",
    "    * You will want to use the TMDB API again and extract data for additional years.\n",
    "\n",
    "\n",
    "* __However, trying to extract the TMDB data for all movies from 2000-2022 could take >24 hours!!__\n",
    "\n",
    "\n",
    "* To address this issue, you should EITHER: \n",
    "    * __Define a smaller (but logical) period of time__ to use for your analyses (e.g. last 10 years, 2010-2019 (pre-pandemic, etc). \n",
    "* __OR coordinate with cohort-mates and divide the API calls__ so that you can all download the data for a smaller number of years and then share your downloaded JSON data."
   ]
  },
  {
   "cell_type": "markdown",
   "id": "49fbc760",
   "metadata": {},
   "source": [
    "**Deliverables**"
   ]
  }
 ],
 "metadata": {
  "kernelspec": {
   "display_name": "Python (dojo-env)",
   "language": "python",
   "name": "dojo-env"
  },
  "language_info": {
   "codemirror_mode": {
    "name": "ipython",
    "version": 3
   },
   "file_extension": ".py",
   "mimetype": "text/x-python",
   "name": "python",
   "nbconvert_exporter": "python",
   "pygments_lexer": "ipython3",
   "version": "3.8.13"
  },
  "toc": {
   "base_numbering": 1,
   "nav_menu": {},
   "number_sections": false,
   "sideBar": true,
   "skip_h1_title": false,
   "title_cell": "Table of Contents",
   "title_sidebar": "Contents",
   "toc_cell": false,
   "toc_position": {},
   "toc_section_display": true,
   "toc_window_display": false
  }
 },
 "nbformat": 4,
 "nbformat_minor": 5
}
