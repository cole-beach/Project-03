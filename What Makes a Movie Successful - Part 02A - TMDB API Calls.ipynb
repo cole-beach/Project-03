{
 "cells": [
  {
   "cell_type": "markdown",
   "id": "ab13a5bf",
   "metadata": {},
   "source": [
    "# TMDB"
   ]
  },
  {
   "cell_type": "code",
   "execution_count": null,
   "id": "6b449807",
   "metadata": {},
   "outputs": [],
   "source": [
    "%load_ext autoreload\n",
    "%autoreload 2\n",
    "import functions as pf"
   ]
  },
  {
   "cell_type": "code",
   "execution_count": 1,
   "id": "bd123c04",
   "metadata": {},
   "outputs": [
    {
     "data": {
      "text/plain": [
       "dict_keys(['api-key'])"
      ]
     },
     "execution_count": 1,
     "metadata": {},
     "output_type": "execute_result"
    }
   ],
   "source": [
    "import json\n",
    "with open(r\"C:\\Users\\nbeac\\.secret\\tmdb_api.json\", \"r\") as f:\n",
    "    login = json.load(f)\n",
    "login.keys()"
   ]
  },
  {
   "cell_type": "code",
   "execution_count": 2,
   "id": "bb8bdf96",
   "metadata": {},
   "outputs": [],
   "source": [
    "import tmdbsimple as tmdb\n",
    "tmdb.API_KEY = login['api-key']"
   ]
  },
  {
   "cell_type": "code",
   "execution_count": null,
   "id": "ca0c4392",
   "metadata": {},
   "outputs": [],
   "source": [
    "!pip install tzlocal"
   ]
  },
  {
   "cell_type": "code",
   "execution_count": 3,
   "id": "b99027b4",
   "metadata": {},
   "outputs": [],
   "source": [
    "import os, time\n",
    "import pandas as pd\n",
    "import datetime as dt\n",
    "import tzlocal"
   ]
  },
  {
   "cell_type": "code",
   "execution_count": 4,
   "id": "eccfaea6",
   "metadata": {
    "scrolled": true
   },
   "outputs": [
    {
     "data": {
      "text/plain": [
       "['combined_tmdb_api_data.csv.gz',\n",
       " 'final_tmdb_data_2000.csv.gz',\n",
       " 'final_tmdb_data_2001.csv.gz',\n",
       " 'final_tmdb_data_2002.csv.gz',\n",
       " 'final_tmdb_data_2003.csv.gz',\n",
       " 'final_tmdb_data_2004.csv.gz',\n",
       " 'final_tmdb_data_2005.csv.gz',\n",
       " 'final_tmdb_data_2006.csv.gz',\n",
       " 'final_tmdb_data_2007.csv.gz',\n",
       " 'final_tmdb_data_2008.csv.gz',\n",
       " 'final_tmdb_data_2009.csv.gz',\n",
       " 'final_tmdb_data_2010.csv.gz',\n",
       " 'final_tmdb_data_2011.csv.gz',\n",
       " 'final_tmdb_data_2012.csv.gz',\n",
       " 'final_tmdb_data_2013.csv.gz',\n",
       " 'final_tmdb_data_2014.csv.gz',\n",
       " 'final_tmdb_data_2015.csv.gz',\n",
       " 'final_tmdb_data_2016.csv.gz',\n",
       " 'final_tmdb_data_2017.csv.gz',\n",
       " 'final_tmdb_data_2018.csv.gz',\n",
       " 'final_tmdb_data_2019.csv.gz',\n",
       " 'final_tmdb_data_2020.csv.gz',\n",
       " 'final_tmdb_data_2021.csv.gz',\n",
       " 'final_tmdb_data_2022.csv.gz',\n",
       " 'title_akas_cleaned.csv.gz',\n",
       " 'title_basics_cleaned.csv.gz',\n",
       " 'title_ratings_cleaned.csv.gz',\n",
       " 'tmdb_api_results_2000.json',\n",
       " 'tmdb_api_results_2001.json']"
      ]
     },
     "execution_count": 4,
     "metadata": {},
     "output_type": "execute_result"
    }
   ],
   "source": [
    "from tqdm.notebook import tqdm_notebook\n",
    "FOLDER = \"Data/\"\n",
    "os.makedirs(FOLDER, exist_ok=True)\n",
    "os.listdir(FOLDER)"
   ]
  },
  {
   "cell_type": "code",
   "execution_count": 5,
   "id": "36ca62b0",
   "metadata": {},
   "outputs": [
    {
     "name": "stdout",
     "output_type": "stream",
     "text": [
      "<class 'pandas.core.frame.DataFrame'>\n",
      "RangeIndex: 2935 entries, 0 to 2934\n",
      "Data columns (total 8 columns):\n",
      " #   Column          Non-Null Count  Dtype  \n",
      "---  ------          --------------  -----  \n",
      " 0   tconst          2935 non-null   object \n",
      " 1   titleType       2935 non-null   object \n",
      " 2   primaryTitle    2935 non-null   object \n",
      " 3   originalTitle   2935 non-null   object \n",
      " 4   isAdult         2935 non-null   int64  \n",
      " 5   startYear       2935 non-null   float64\n",
      " 6   runtimeMinutes  2935 non-null   int64  \n",
      " 7   genres          2935 non-null   object \n",
      "dtypes: float64(1), int64(2), object(5)\n",
      "memory usage: 183.6+ KB\n"
     ]
    },
    {
     "data": {
      "text/html": [
       "<div>\n",
       "<style scoped>\n",
       "    .dataframe tbody tr th:only-of-type {\n",
       "        vertical-align: middle;\n",
       "    }\n",
       "\n",
       "    .dataframe tbody tr th {\n",
       "        vertical-align: top;\n",
       "    }\n",
       "\n",
       "    .dataframe thead th {\n",
       "        text-align: right;\n",
       "    }\n",
       "</style>\n",
       "<table border=\"1\" class=\"dataframe\">\n",
       "  <thead>\n",
       "    <tr style=\"text-align: right;\">\n",
       "      <th></th>\n",
       "      <th>tconst</th>\n",
       "      <th>titleType</th>\n",
       "      <th>primaryTitle</th>\n",
       "      <th>originalTitle</th>\n",
       "      <th>isAdult</th>\n",
       "      <th>startYear</th>\n",
       "      <th>runtimeMinutes</th>\n",
       "      <th>genres</th>\n",
       "    </tr>\n",
       "  </thead>\n",
       "  <tbody>\n",
       "    <tr>\n",
       "      <th>0</th>\n",
       "      <td>tt0035423</td>\n",
       "      <td>movie</td>\n",
       "      <td>Kate &amp; Leopold</td>\n",
       "      <td>Kate &amp; Leopold</td>\n",
       "      <td>0</td>\n",
       "      <td>2001.0</td>\n",
       "      <td>118</td>\n",
       "      <td>Comedy,Fantasy,Romance</td>\n",
       "    </tr>\n",
       "    <tr>\n",
       "      <th>1</th>\n",
       "      <td>tt0113026</td>\n",
       "      <td>movie</td>\n",
       "      <td>The Fantasticks</td>\n",
       "      <td>The Fantasticks</td>\n",
       "      <td>0</td>\n",
       "      <td>2000.0</td>\n",
       "      <td>86</td>\n",
       "      <td>Musical,Romance</td>\n",
       "    </tr>\n",
       "    <tr>\n",
       "      <th>2</th>\n",
       "      <td>tt0113092</td>\n",
       "      <td>movie</td>\n",
       "      <td>For the Cause</td>\n",
       "      <td>For the Cause</td>\n",
       "      <td>0</td>\n",
       "      <td>2000.0</td>\n",
       "      <td>100</td>\n",
       "      <td>Action,Adventure,Drama</td>\n",
       "    </tr>\n",
       "    <tr>\n",
       "      <th>3</th>\n",
       "      <td>tt0114447</td>\n",
       "      <td>movie</td>\n",
       "      <td>The Silent Force</td>\n",
       "      <td>The Silent Force</td>\n",
       "      <td>0</td>\n",
       "      <td>2001.0</td>\n",
       "      <td>90</td>\n",
       "      <td>Action</td>\n",
       "    </tr>\n",
       "    <tr>\n",
       "      <th>4</th>\n",
       "      <td>tt0115937</td>\n",
       "      <td>movie</td>\n",
       "      <td>Consequence</td>\n",
       "      <td>Consequence</td>\n",
       "      <td>0</td>\n",
       "      <td>2000.0</td>\n",
       "      <td>91</td>\n",
       "      <td>Drama</td>\n",
       "    </tr>\n",
       "  </tbody>\n",
       "</table>\n",
       "</div>"
      ],
      "text/plain": [
       "      tconst titleType      primaryTitle     originalTitle  isAdult  \\\n",
       "0  tt0035423     movie    Kate & Leopold    Kate & Leopold        0   \n",
       "1  tt0113026     movie   The Fantasticks   The Fantasticks        0   \n",
       "2  tt0113092     movie     For the Cause     For the Cause        0   \n",
       "3  tt0114447     movie  The Silent Force  The Silent Force        0   \n",
       "4  tt0115937     movie       Consequence       Consequence        0   \n",
       "\n",
       "   startYear  runtimeMinutes                  genres  \n",
       "0     2001.0             118  Comedy,Fantasy,Romance  \n",
       "1     2000.0              86         Musical,Romance  \n",
       "2     2000.0             100  Action,Adventure,Drama  \n",
       "3     2001.0              90                  Action  \n",
       "4     2000.0              91                   Drama  "
      ]
     },
     "execution_count": 5,
     "metadata": {},
     "output_type": "execute_result"
    }
   ],
   "source": [
    "# Load in the dataframe from project part 1 as basics:\n",
    "basics = pd.read_csv(\"Data/title_basics_cleaned.csv.gz\")\n",
    "basics.info()\n",
    "basics.head()"
   ]
  },
  {
   "cell_type": "code",
   "execution_count": 6,
   "id": "40c07ed3",
   "metadata": {},
   "outputs": [],
   "source": [
    "def write_json(new_data, filename, return_data=False): \n",
    "    \"\"\"Appends the input json-compatible data to the json file.\n",
    "    Adapted from: https://www.geeksforgeeks.org/append-to-json-file-using-python/\n",
    "    Args:\n",
    "        new_data (list or dict): json-compatible dictionary or list\n",
    "        filename (str): json file to append data to\n",
    "\n",
    "    Returns:\n",
    "        return_data(bool): determines if combined data is returned (default =False) \n",
    "    \"\"\"\n",
    "    import json\n",
    "    with open(filename,'r+') as file:\n",
    "        # First we load existing data into a dict.\n",
    "        file_data = json.load(file)\n",
    "        ## Choose extend or append\n",
    "        if (type(new_data) == list) & (type(file_data) == list):\n",
    "            file_data.extend(new_data)\n",
    "        else:\n",
    "                file_data.append(new_data)\n",
    "        # Sets file's current position at offset.\n",
    "        file.seek(0)\n",
    "        # convert back to json.\n",
    "        json.dump(file_data, file)\n",
    "\n",
    "    if return_data:\n",
    "        return file_data"
   ]
  },
  {
   "cell_type": "markdown",
   "id": "43b45690",
   "metadata": {},
   "source": [
    "# API Extraction Function"
   ]
  },
  {
   "cell_type": "code",
   "execution_count": 7,
   "id": "03de5b36",
   "metadata": {},
   "outputs": [],
   "source": [
    "# def get_movie_with_rating(movie_id):\n",
    "#     #Get the movie object for the current id\n",
    "#     movie = imdb.Movies(movie_id)\n",
    "#     # save the .info .releases dictionaries\n",
    "#     movie_info = movie.info()\n",
    "#     releases = movie.releases()\n",
    "#     # Loop through countries in releases\n",
    "#     for c in releases['countries']:\n",
    "#         if c['iso_3166_1'] =='US':\n",
    "#             movie_info['certification'] = c['certification']\n",
    "#     return movie_info"
   ]
  },
  {
   "cell_type": "code",
   "execution_count": 8,
   "id": "e77b1be7",
   "metadata": {},
   "outputs": [],
   "source": [
    "def get_movie_with_rating(movie_id):\n",
    "    \"\"\"Retrieve the dictionary of movie data using tmbdbsimple, including MPAA rating.\n",
    "    Args:\n",
    "        movie_id (str): movie-to-retreive's id (from IMDB's tconst column)\n",
    "        \n",
    "    Returns:\n",
    "        dict: dictionary of movie.info() + the certification from movie.releases\"\"\"\n",
    "    # Get the movie object for the current id\n",
    "    movie = tmdb.Movies(movie_id)\n",
    "    # save the .info .releases dictionaries\n",
    "    movie_info = movie.info()\n",
    "    releases = movie.releases()\n",
    "    # Loop through countries in releases\n",
    "    for c in releases['countries']:\n",
    "        # if the country abbreviation==US\n",
    "        if c['iso_3166_1' ] =='US':\n",
    "            ## save a \"certification\" key in the info dict with the certification\n",
    "            movie_info['certification'] = c['certification']\n",
    "    return movie_info"
   ]
  },
  {
   "cell_type": "markdown",
   "id": "8ffdc788",
   "metadata": {},
   "source": [
    "# Before the Loops"
   ]
  },
  {
   "cell_type": "code",
   "execution_count": 9,
   "id": "e0afae9c",
   "metadata": {},
   "outputs": [
    {
     "name": "stdout",
     "output_type": "stream",
     "text": [
      "<class 'pandas.core.frame.DataFrame'>\n",
      "RangeIndex: 2935 entries, 0 to 2934\n",
      "Data columns (total 8 columns):\n",
      " #   Column          Non-Null Count  Dtype  \n",
      "---  ------          --------------  -----  \n",
      " 0   tconst          2935 non-null   object \n",
      " 1   titleType       2935 non-null   object \n",
      " 2   primaryTitle    2935 non-null   object \n",
      " 3   originalTitle   2935 non-null   object \n",
      " 4   isAdult         2935 non-null   int64  \n",
      " 5   startYear       2935 non-null   float64\n",
      " 6   runtimeMinutes  2935 non-null   int64  \n",
      " 7   genres          2935 non-null   object \n",
      "dtypes: float64(1), int64(2), object(5)\n",
      "memory usage: 183.6+ KB\n"
     ]
    }
   ],
   "source": [
    "basics.info()"
   ]
  },
  {
   "cell_type": "code",
   "execution_count": 10,
   "id": "bca40355",
   "metadata": {},
   "outputs": [
    {
     "data": {
      "text/plain": [
       "[2000,\n",
       " 2001,\n",
       " 2002,\n",
       " 2003,\n",
       " 2004,\n",
       " 2005,\n",
       " 2006,\n",
       " 2007,\n",
       " 2008,\n",
       " 2009,\n",
       " 2010,\n",
       " 2011,\n",
       " 2012,\n",
       " 2013,\n",
       " 2014,\n",
       " 2015,\n",
       " 2016,\n",
       " 2017,\n",
       " 2018,\n",
       " 2019,\n",
       " 2020,\n",
       " 2021,\n",
       " 2022]"
      ]
     },
     "execution_count": 10,
     "metadata": {},
     "output_type": "execute_result"
    }
   ],
   "source": [
    "YEARS_TO_GET = list(range(2000,2023))\n",
    "YEARS_TO_GET"
   ]
  },
  {
   "cell_type": "markdown",
   "id": "febcedfc",
   "metadata": {},
   "source": [
    "# OUTER Loop"
   ]
  },
  {
   "cell_type": "markdown",
   "id": "43128761",
   "metadata": {},
   "source": [
    "## Setting up a Progress Bar"
   ]
  },
  {
   "cell_type": "markdown",
   "id": "e1ac28ea",
   "metadata": {},
   "source": [
    "Select a JSON_FILE filename to save the results in progress.\n",
    "* Check if the file exists.\n",
    "    * if no:\n",
    "        * Create the empy JSON_FILE with \"with open\" that just contains the key \"imdb_id\"\n",
    "            \n",
    "    * if yes:\n",
    "        * Do nothing!\n",
    "\n",
    "The code below will identify the folder in the FOLDER we just define above and will name the file based on the current year"
   ]
  },
  {
   "cell_type": "code",
   "execution_count": 11,
   "id": "737c3b8d",
   "metadata": {
    "scrolled": true
   },
   "outputs": [],
   "source": [
    "# # OUTER LOOP\n",
    "# for YEAR in tqdm_notebook(YEARS_TO_GET, desc='YEARS', position=0):\n",
    "\n",
    "    \n",
    "#     JSON_FILE = f'{FOLDER}tmdb_api_results_{YEAR}.json'\n",
    "#     file_exists = os.path.isfile(JSON_FILE)\n",
    "#     # If it does not exist: create it\n",
    "#     if file_exists == False:\n",
    "#     # save an empty dict with just \"imdb_id\" to the new json file.\n",
    "#         with open(JSON_FILE,'w') as f:\n",
    "#             json.dump([{'imdb_id':0}],f)\n",
    "#     basics = pd.read_csv(\"Data/title_basics_cleaned.csv.gz\")\n",
    "#     df = basics.loc[basics['startYear']==YEAR].copy()\n",
    "#     movie_ids = df['tconst'].copy()\n",
    "    \n",
    "#     previous_df = pd.read_json(JSON_FILE)\n",
    "#     movie_ids_to_get = movie_ids[~movie_ids.isin(previous_df['imdb_id'])]\n",
    "\n",
    "# # INNER Loop\n",
    "#     for movie_id in tqdm_notebook(movie_ids_to_get,\n",
    "#                                   desc=f'Movies from {YEAR}',\n",
    "#                                   position=1,\n",
    "#                                   leave=True):\n",
    "#         # Attempt to retrieve then data for the movie id\n",
    "#         try:\n",
    "#             temp = get_movie_with_rating(movie_id)  #This uses your pre-made function\n",
    "#             # Append/extend results to existing file using a pre-made function\n",
    "#             write_json(temp,JSON_FILE)\n",
    "#             # Short 20 ms sleep to prevent overwhelming server\n",
    "#             time.sleep(0.02)\n",
    "\n",
    "#         # If it fails,  make a dict with just the id and None for certification.\n",
    "#         except Exception as e:\n",
    "#             continue\n",
    "\n",
    "\n",
    "    \n",
    "#     final_year_df = pd.read_json(JSON_FILE)\n",
    "    \n",
    "#     csv_fname = f\"{FOLDER}final_tmdb_data_{YEAR}.csv.gz\"\n",
    "#     final_year_df.to_csv(csv_fname, compression=\"gzip\", index=False)\n",
    "    "
   ]
  },
  {
   "cell_type": "code",
   "execution_count": 12,
   "id": "16e6ebaa",
   "metadata": {},
   "outputs": [],
   "source": [
    "## Setting booleans to control which method of saving data\n",
    "ADVANCED_MOVIE_ID_WORKFLOW=False\n",
    "ERROR_LOG = \"tmdb_api_errors.json\"\n",
    "with open(ERROR_LOG,'w') as f:\n",
    "    json.dump([{'movie id':'','error':''}],f)"
   ]
  },
  {
   "cell_type": "code",
   "execution_count": 13,
   "id": "0086ca58",
   "metadata": {},
   "outputs": [
    {
     "name": "stdout",
     "output_type": "stream",
     "text": [
      "- Since ADVANCED_MOVIE_ID_WORKFLOW is False, will append each movie to list.\n",
      "\n",
      "[i] API Calls started on 08-08/19/22-2022 @ 08:16:22 PM\n"
     ]
    },
    {
     "data": {
      "application/vnd.jupyter.widget-view+json": {
       "model_id": "a84ad6e879e849cd9a487753ece1a802",
       "version_major": 2,
       "version_minor": 0
      },
      "text/plain": [
       "YEARS:   0%|          | 0/23 [00:00<?, ?it/s]"
      ]
     },
     "metadata": {},
     "output_type": "display_data"
    },
    {
     "data": {
      "application/vnd.jupyter.widget-view+json": {
       "model_id": "462d5495102e402caab90f764085e16e",
       "version_major": 2,
       "version_minor": 0
      },
      "text/plain": [
       "Movies from 2000:   0%|          | 0/1409 [00:00<?, ?it/s]"
      ]
     },
     "metadata": {},
     "output_type": "display_data"
    },
    {
     "data": {
      "application/vnd.jupyter.widget-view+json": {
       "model_id": "c851e99169bb4230aa6d994cef0e5c0e",
       "version_major": 2,
       "version_minor": 0
      },
      "text/plain": [
       "Movies from 2001:   0%|          | 0/1526 [00:00<?, ?it/s]"
      ]
     },
     "metadata": {},
     "output_type": "display_data"
    },
    {
     "data": {
      "application/vnd.jupyter.widget-view+json": {
       "model_id": "d600a807235d427987b5de008085aa9f",
       "version_major": 2,
       "version_minor": 0
      },
      "text/plain": [
       "Movies from 2002: 0it [00:00, ?it/s]"
      ]
     },
     "metadata": {},
     "output_type": "display_data"
    },
    {
     "data": {
      "application/vnd.jupyter.widget-view+json": {
       "model_id": "b2fb000c0b1c4f43b2e8621b46b6cdd3",
       "version_major": 2,
       "version_minor": 0
      },
      "text/plain": [
       "Movies from 2003: 0it [00:00, ?it/s]"
      ]
     },
     "metadata": {},
     "output_type": "display_data"
    },
    {
     "data": {
      "application/vnd.jupyter.widget-view+json": {
       "model_id": "2e0695390b294ca08d3e974f9be731eb",
       "version_major": 2,
       "version_minor": 0
      },
      "text/plain": [
       "Movies from 2004: 0it [00:00, ?it/s]"
      ]
     },
     "metadata": {},
     "output_type": "display_data"
    },
    {
     "data": {
      "application/vnd.jupyter.widget-view+json": {
       "model_id": "926a8504afdc4126bd67c62cc4b851b1",
       "version_major": 2,
       "version_minor": 0
      },
      "text/plain": [
       "Movies from 2005: 0it [00:00, ?it/s]"
      ]
     },
     "metadata": {},
     "output_type": "display_data"
    },
    {
     "data": {
      "application/vnd.jupyter.widget-view+json": {
       "model_id": "89d2c0e1f7c94cb8ad30e2a1e3c04597",
       "version_major": 2,
       "version_minor": 0
      },
      "text/plain": [
       "Movies from 2006: 0it [00:00, ?it/s]"
      ]
     },
     "metadata": {},
     "output_type": "display_data"
    },
    {
     "data": {
      "application/vnd.jupyter.widget-view+json": {
       "model_id": "1d75b8a4d6394319abc444488ba75097",
       "version_major": 2,
       "version_minor": 0
      },
      "text/plain": [
       "Movies from 2007: 0it [00:00, ?it/s]"
      ]
     },
     "metadata": {},
     "output_type": "display_data"
    },
    {
     "data": {
      "application/vnd.jupyter.widget-view+json": {
       "model_id": "6e5ec125649848a6a671f31528ddfb08",
       "version_major": 2,
       "version_minor": 0
      },
      "text/plain": [
       "Movies from 2008: 0it [00:00, ?it/s]"
      ]
     },
     "metadata": {},
     "output_type": "display_data"
    },
    {
     "data": {
      "application/vnd.jupyter.widget-view+json": {
       "model_id": "d2072cd952f04763ab16225e08f38aa7",
       "version_major": 2,
       "version_minor": 0
      },
      "text/plain": [
       "Movies from 2009: 0it [00:00, ?it/s]"
      ]
     },
     "metadata": {},
     "output_type": "display_data"
    },
    {
     "data": {
      "application/vnd.jupyter.widget-view+json": {
       "model_id": "092b51bed4a740b0b5349091d58d6b30",
       "version_major": 2,
       "version_minor": 0
      },
      "text/plain": [
       "Movies from 2010: 0it [00:00, ?it/s]"
      ]
     },
     "metadata": {},
     "output_type": "display_data"
    },
    {
     "data": {
      "application/vnd.jupyter.widget-view+json": {
       "model_id": "b74e37ef5b8f4ff6941398c4ffccddf5",
       "version_major": 2,
       "version_minor": 0
      },
      "text/plain": [
       "Movies from 2011: 0it [00:00, ?it/s]"
      ]
     },
     "metadata": {},
     "output_type": "display_data"
    },
    {
     "data": {
      "application/vnd.jupyter.widget-view+json": {
       "model_id": "9e4e7a0b37ec49bbae26266c9dd29a65",
       "version_major": 2,
       "version_minor": 0
      },
      "text/plain": [
       "Movies from 2012: 0it [00:00, ?it/s]"
      ]
     },
     "metadata": {},
     "output_type": "display_data"
    },
    {
     "data": {
      "application/vnd.jupyter.widget-view+json": {
       "model_id": "6ca0a34211504613bd8eb79056166d3d",
       "version_major": 2,
       "version_minor": 0
      },
      "text/plain": [
       "Movies from 2013: 0it [00:00, ?it/s]"
      ]
     },
     "metadata": {},
     "output_type": "display_data"
    },
    {
     "data": {
      "application/vnd.jupyter.widget-view+json": {
       "model_id": "9c80b4c478754456898063eda84978c9",
       "version_major": 2,
       "version_minor": 0
      },
      "text/plain": [
       "Movies from 2014: 0it [00:00, ?it/s]"
      ]
     },
     "metadata": {},
     "output_type": "display_data"
    },
    {
     "data": {
      "application/vnd.jupyter.widget-view+json": {
       "model_id": "fa2b9fe2e84441ad9e565ad1bee2ce9c",
       "version_major": 2,
       "version_minor": 0
      },
      "text/plain": [
       "Movies from 2015: 0it [00:00, ?it/s]"
      ]
     },
     "metadata": {},
     "output_type": "display_data"
    },
    {
     "data": {
      "application/vnd.jupyter.widget-view+json": {
       "model_id": "9187d76cdfcd4b5c9074d1ed3b5d3723",
       "version_major": 2,
       "version_minor": 0
      },
      "text/plain": [
       "Movies from 2016: 0it [00:00, ?it/s]"
      ]
     },
     "metadata": {},
     "output_type": "display_data"
    },
    {
     "data": {
      "application/vnd.jupyter.widget-view+json": {
       "model_id": "76e019c9cb9b41e7b9fc1680c5a095b5",
       "version_major": 2,
       "version_minor": 0
      },
      "text/plain": [
       "Movies from 2017: 0it [00:00, ?it/s]"
      ]
     },
     "metadata": {},
     "output_type": "display_data"
    },
    {
     "data": {
      "application/vnd.jupyter.widget-view+json": {
       "model_id": "873b2d9c0aac42b3b865d67c86a116b7",
       "version_major": 2,
       "version_minor": 0
      },
      "text/plain": [
       "Movies from 2018: 0it [00:00, ?it/s]"
      ]
     },
     "metadata": {},
     "output_type": "display_data"
    },
    {
     "data": {
      "application/vnd.jupyter.widget-view+json": {
       "model_id": "c04d96130a4343ddb32cc74ae0e2885d",
       "version_major": 2,
       "version_minor": 0
      },
      "text/plain": [
       "Movies from 2019: 0it [00:00, ?it/s]"
      ]
     },
     "metadata": {},
     "output_type": "display_data"
    },
    {
     "data": {
      "application/vnd.jupyter.widget-view+json": {
       "model_id": "35d760a2396141838b9e787d73d58634",
       "version_major": 2,
       "version_minor": 0
      },
      "text/plain": [
       "Movies from 2020: 0it [00:00, ?it/s]"
      ]
     },
     "metadata": {},
     "output_type": "display_data"
    },
    {
     "data": {
      "application/vnd.jupyter.widget-view+json": {
       "model_id": "acb2018895b04c0ba980468496998431",
       "version_major": 2,
       "version_minor": 0
      },
      "text/plain": [
       "Movies from 2021: 0it [00:00, ?it/s]"
      ]
     },
     "metadata": {},
     "output_type": "display_data"
    },
    {
     "data": {
      "application/vnd.jupyter.widget-view+json": {
       "model_id": "aae2756cb9594d0ebb01f09713055e75",
       "version_major": 2,
       "version_minor": 0
      },
      "text/plain": [
       "Movies from 2022: 0it [00:00, ?it/s]"
      ]
     },
     "metadata": {},
     "output_type": "display_data"
    }
   ],
   "source": [
    "# Start of OUTER loop\n",
    "if ADVANCED_MOVIE_ID_WORKFLOW==True:\n",
    "    print('- Since ADVANCED_MOVIE_ID_WORKFLOW is True, will save each movie to disk.')\n",
    "else:\n",
    "    print('- Since ADVANCED_MOVIE_ID_WORKFLOW is False, will append each movie to list.')\n",
    "\n",
    "now = dt.datetime.now(tz=tzlocal.get_localzone())\n",
    "print(f\"\\n[i] API Calls started on {now.strftime('%m-%D-%Y')} @ {now.strftime('%I:%M:%S %p')}\")\n",
    "\n",
    "\n",
    "\n",
    "for YEAR in tqdm_notebook(YEARS_TO_GET,desc='YEARS',\n",
    "                          position=0):\n",
    "    \n",
    "\n",
    "    #Saving new year as the current df\n",
    "    df = basics.loc[ basics['startYear']==YEAR].copy()\n",
    "    # saving movie ids to list\n",
    "    movie_ids = df['tconst'].copy()#.to_list()\n",
    "    \n",
    "    \n",
    "   ## if saving each movie to disk\n",
    "    if ADVANCED_MOVIE_ID_WORKFLOW:\n",
    "\n",
    "        #Defining the JSON file to store results for year\n",
    "        JSON_FILE = f'{FOLDER}tmdb_api_results_{YEAR}.json'\n",
    "\n",
    "        # Check if file exists\n",
    "        file_exists = os.path.isfile(JSON_FILE)\n",
    "\n",
    "\n",
    "        # If it does not exist: create it\n",
    "        if file_exists == False:\n",
    "        # save an empty dict with just \"imdb_id\" to the new json file.\n",
    "            with open(JSON_FILE,'w') as f:\n",
    "                json.dump([{'imdb_id':0}],f)\n",
    "\n",
    "\n",
    "        # Load existing data from json into a dataframe called \"previous_df\"\n",
    "        previous_df = pd.read_json(JSON_FILE)\n",
    "\n",
    "\n",
    "        # filter out any ids that are already in the JSON_FILE\n",
    "        movie_ids_to_get = movie_ids[~movie_ids.isin(previous_df['imdb_id'])]\n",
    "\n",
    "    ## if append to list insteead of saving .json\n",
    "    else:\n",
    "        ## Make list to append data to instead of saving to file\n",
    "        year_data = []\n",
    "        ## use all movie_ids from basicsß\n",
    "        movie_ids_to_get = movie_ids\n",
    "        \n",
    "        \n",
    "        \n",
    "    #Get index and movie id from list\n",
    "    # INNER Loop\n",
    "    for movie_id in tqdm_notebook(movie_ids_to_get,\n",
    "                                  desc=f'Movies from {YEAR}',\n",
    "                                  position=1,\n",
    "                                  leave=True):\n",
    "        # Attempt to retrieve then data for the movie id\n",
    "        try:\n",
    "            temp = get_movie_with_rating(movie_id)  #This uses your pre-ma    de function\n",
    "            # Append/extend results to existing file using a pre-made function\n",
    "            \n",
    "            ## Save to json_file if advanced workflow\n",
    "            if ADVANCED_MOVIE_ID_WORKFLOW:\n",
    "                \n",
    "                write_json(temp,JSON_FILE)\n",
    "                \n",
    "            else:\n",
    "                year_data.append(temp)\n",
    "                \n",
    "            \n",
    "            # Short 10 ms sleep to prevent overwhelming server\n",
    "            time.sleep(0.01)\n",
    "\n",
    "        # If it fails,  append error message with id to json\n",
    "        except Exception as e:\n",
    "            temp = {'movie_id':movie_id,'error':str(e)}\n",
    "            write_json(temp, ERROR_LOG)\n",
    "            continue\n",
    "\n",
    "    ## FINAL SAVING OF YEAR DATA\n",
    "    if ADVANCED_MOVIE_ID_WORKFLOW:\n",
    "        final_year_df = pd.read_json(JSON_FILE)\n",
    "        \n",
    "    else:\n",
    "        final_year_df = pd.DataFrame(year_data)\n",
    "    \n",
    "    ## save compressed csv\n",
    "    csv_fname = f\"{FOLDER}final_tmdb_data_{YEAR}.csv.gz\"\n",
    "    final_year_df.to_csv(csv_fname, compression=\"gzip\", index=False)"
   ]
  }
 ],
 "metadata": {
  "kernelspec": {
   "display_name": "Python (dojo-env)",
   "language": "python",
   "name": "dojo-env"
  },
  "language_info": {
   "codemirror_mode": {
    "name": "ipython",
    "version": 3
   },
   "file_extension": ".py",
   "mimetype": "text/x-python",
   "name": "python",
   "nbconvert_exporter": "python",
   "pygments_lexer": "ipython3",
   "version": "3.8.13"
  },
  "toc": {
   "base_numbering": 1,
   "nav_menu": {},
   "number_sections": false,
   "sideBar": true,
   "skip_h1_title": false,
   "title_cell": "Table of Contents",
   "title_sidebar": "Contents",
   "toc_cell": false,
   "toc_position": {},
   "toc_section_display": true,
   "toc_window_display": false
  }
 },
 "nbformat": 4,
 "nbformat_minor": 5
}
